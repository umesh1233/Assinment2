{
 "cells": [
  {
   "cell_type": "code",
   "execution_count": 1,
   "id": "e7b1e68e-9f50-44f2-93ad-0109d7484b0f",
   "metadata": {},
   "outputs": [],
   "source": [
    "# Q1.Who developed Python Programming Language? \n",
    "# Ans.GUIDO VAN ROSSUM"
   ]
  },
  {
   "cell_type": "code",
   "execution_count": 2,
   "id": "e2bde2d4-50a2-4db7-8f3e-2712ea82db2a",
   "metadata": {},
   "outputs": [],
   "source": [
    "# Q2.Which type of Programming does Python support? \n",
    "# Ans.OBJECT-ORIENTED and PROCEDURAL PROGRAMMING"
   ]
  },
  {
   "cell_type": "code",
   "execution_count": 3,
   "id": "6ef2d949-40fe-4198-b860-bba39860eb53",
   "metadata": {},
   "outputs": [],
   "source": [
    "# Q3.Is Python case sensitive when dealing with identifiers? \n",
    "# Ans.Yes python is a Case-Sensitive Language"
   ]
  },
  {
   "cell_type": "code",
   "execution_count": 4,
   "id": "96bbf92f-a489-4afb-aa57-ae446b8b0fd0",
   "metadata": {},
   "outputs": [],
   "source": [
    "# Q4.What is the correct extension of the Python file?\n",
    "# Ans.The correct Extension of the python is .py"
   ]
  },
  {
   "cell_type": "code",
   "execution_count": 5,
   "id": "84de2027-c9a2-4f4e-876b-bb6104816921",
   "metadata": {},
   "outputs": [],
   "source": [
    "# Q5.Is Python code compiled or interpreted? \n",
    "# Ans.Interpreted"
   ]
  },
  {
   "cell_type": "code",
   "execution_count": 6,
   "id": "6b21b4fa-b721-44b6-8499-df1ccf734515",
   "metadata": {},
   "outputs": [],
   "source": [
    "# Q6.Name a few blocks of code used to define in Python language? \n",
    "# Ans.Indentation is used to define a block of code in python."
   ]
  },
  {
   "cell_type": "code",
   "execution_count": 7,
   "id": "962ecc84-61c4-4fe8-9ae0-e8e184252d34",
   "metadata": {},
   "outputs": [],
   "source": [
    "# Q7.State a character used to give single-line comments in Python? \n",
    "# Ans.Use symbol hash(#)"
   ]
  },
  {
   "cell_type": "code",
   "execution_count": 8,
   "id": "16669686-8656-46cd-9282-c3e82207ed6f",
   "metadata": {},
   "outputs": [],
   "source": [
    "# Q8.Mention functions which can help us to find the version of python that we are currently working on? \n",
    "# Ans.sys.version"
   ]
  },
  {
   "cell_type": "code",
   "execution_count": 9,
   "id": "afb6222d-2d66-46cf-ac89-67775aaeda05",
   "metadata": {},
   "outputs": [],
   "source": [
    "# Q9.Python supports the creation of anonymous functions at runtime, using a construct called \n",
    "# Ans.lambda"
   ]
  },
  {
   "cell_type": "code",
   "execution_count": 10,
   "id": "2fcae63c-7946-4ecb-bc94-a5032068919d",
   "metadata": {},
   "outputs": [],
   "source": [
    "# Q10.What does pip stand for python?\n",
    "# Ans.Pip is a package-management system "
   ]
  },
  {
   "cell_type": "code",
   "execution_count": 11,
   "id": "823de3f2-bb01-4d61-af0c-b2525ce55966",
   "metadata": {},
   "outputs": [],
   "source": [
    "# Q11.Mention a few built-in functions in python?\n",
    "# Ans.min(),max(),sum(),return(),len(),list(),str(),int(),float()"
   ]
  },
  {
   "cell_type": "code",
   "execution_count": 12,
   "id": "5f6a2195-cdee-4ff6-8e65-31f559383de9",
   "metadata": {},
   "outputs": [],
   "source": [
    "# Q12.What is the maximum possible length of an identifier in Python? \n",
    "# Ans.Identifiers are unlimited in length."
   ]
  },
  {
   "cell_type": "code",
   "execution_count": 13,
   "id": "d7591f8b-124a-4db0-83ab-14e80495106e",
   "metadata": {},
   "outputs": [],
   "source": [
    "# Q12.What are the benefits of using Python? \n",
    "# Ans.Easy to learn, Availability of support,Large global community,"
   ]
  },
  {
   "cell_type": "code",
   "execution_count": 15,
   "id": "43b36d49-88d6-4386-b870-a09ec9d6927b",
   "metadata": {},
   "outputs": [],
   "source": [
    "# Q14.How is memory managed in Python?\n",
    "# Ans.The memory manager is responsible for allocating memory to Python objects and tracking which objects are currently in use."
   ]
  },
  {
   "cell_type": "code",
   "execution_count": 1,
   "id": "d5e3b7d2-7de6-49c0-9b7a-4d37296d2dac",
   "metadata": {},
   "outputs": [],
   "source": [
    "# Q15. How to install Python on Windows and set path variables? 16. Is indentation required in python? \n",
    "# Ans. click on your installation file and check the Add Python 3.7 to PATH box."
   ]
  },
  {
   "cell_type": "code",
   "execution_count": null,
   "id": "7b400fbd-8729-4e18-87a1-b0d02e5ddd91",
   "metadata": {},
   "outputs": [],
   "source": [
    "# Q16. Is indentation required in python?\n",
    "# Q17. Python indentation is a way of telling a Python interpreter that the group of statements belongs to a particular block of code."
   ]
  }
 ],
 "metadata": {
  "kernelspec": {
   "display_name": "Python 3 (ipykernel)",
   "language": "python",
   "name": "python3"
  },
  "language_info": {
   "codemirror_mode": {
    "name": "ipython",
    "version": 3
   },
   "file_extension": ".py",
   "mimetype": "text/x-python",
   "name": "python",
   "nbconvert_exporter": "python",
   "pygments_lexer": "ipython3",
   "version": "3.10.8"
  }
 },
 "nbformat": 4,
 "nbformat_minor": 5
}
